{
 "cells": [
  {
   "cell_type": "code",
   "execution_count": 2,
   "metadata": {
    "scrolled": true
   },
   "outputs": [
    {
     "data": {
      "application/vnd.jupyter.widget-view+json": {
       "model_id": "6f6877fb930b46a8a44c859dac9878c0",
       "version_major": 2,
       "version_minor": 0
      },
      "text/plain": [
       "Tab(children=(VBox(children=(Text(value='2000', description='Initial Inv'), Text(value='400', description='Top…"
      ]
     },
     "metadata": {},
     "output_type": "display_data"
    }
   ],
   "source": [
    "from calc import calculate,calculate_goal\n",
    "from IPython.display import display, Markdown, clear_output\n",
    "import ipywidgets as widgets\n",
    "\n",
    "#-----Simulator----------------------------------------------------\n",
    "Initial = widgets.Text(value='2000',description='Initial Inv', )\n",
    "Monthly = widgets.Text(value='400',description='Topup', )\n",
    "Years = widgets.Text(value='6',description='Years', )\n",
    "button_simulator = widgets.Button(description='Calculate')\n",
    "out = widgets.Output()\n",
    "\n",
    "def on_button_clicked_simulator(_):\n",
    "    with out:\n",
    "        clear_output()\n",
    "        calculate(Initial.value,Monthly.value,Years.value)\n",
    "        \n",
    "button_simulator.on_click(on_button_clicked_simulator)\n",
    "Simulator = widgets.VBox([Initial,Monthly,Years,button_simulator,out])\n",
    "\n",
    "#-----Calculator----------------------------------------------------\n",
    "Goal = widgets.Text(value='40000',description='Goal*', )\n",
    "Starting = widgets.Text(value='0',description='Starting*', )\n",
    "Period = widgets.Text(value='6',description='Years*', )\n",
    "Return = widgets.Text(value='0.001',description='Return', )\n",
    "button_calculator = widgets.Button(description='Calculate')\n",
    "out1 = widgets.Output()\n",
    "\n",
    "def on_button_clicked_calculator(_):\n",
    "    with out1:\n",
    "        clear_output()\n",
    "        calculate_goal(Goal.value,Starting.value,Period.value,Return.value)\n",
    "        \n",
    "button_calculator.on_click(on_button_clicked_calculator)        \n",
    "Calculator = widgets.VBox([Goal,Starting,Period,Return,button_calculator,out1])\n",
    "\n",
    "# defining a list with the contents of our windows\n",
    "children = [Simulator, Calculator]# initializing a tab\n",
    "tab = widgets.Tab()\n",
    "# setting the tab windows \n",
    "tab.children = children# changing the title of the first and second window\n",
    "tab.set_title(1, 'Simulator')\n",
    "tab.set_title(0, 'Calculator')\n",
    "tab"
   ]
  },
  {
   "cell_type": "code",
   "execution_count": null,
   "metadata": {},
   "outputs": [],
   "source": []
  }
 ],
 "metadata": {
  "kernelspec": {
   "display_name": "Python 3",
   "language": "python",
   "name": "python3"
  },
  "language_info": {
   "codemirror_mode": {
    "name": "ipython",
    "version": 3
   },
   "file_extension": ".py",
   "mimetype": "text/x-python",
   "name": "python",
   "nbconvert_exporter": "python",
   "pygments_lexer": "ipython3",
   "version": "3.8.5"
  }
 },
 "nbformat": 4,
 "nbformat_minor": 4
}
